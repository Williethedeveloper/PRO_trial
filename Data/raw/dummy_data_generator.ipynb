{
 "cells": [
  {
   "cell_type": "code",
   "execution_count": 1,
   "id": "9569a5e4",
   "metadata": {},
   "outputs": [],
   "source": [
    "# Import necessary libraries\n",
    "import os\n",
    "import pandas as pd\n",
    "import pandapower as pp\n",
    "import pandapower.networks as pn\n",
    "import pandapower.plotting as plot\n",
    "import matplotlib.pyplot as plt\n",
    "import numpy as np\n",
    "import numba\n",
    "import matplotlib.cm as cm"
   ]
  },
  {
   "cell_type": "code",
   "execution_count": 2,
   "id": "8aac5758",
   "metadata": {},
   "outputs": [],
   "source": [
    "# Using the IEEE 14 bus test case from pandapower\n",
    "net = pn.case14()\n"
   ]
  },
  {
   "cell_type": "code",
   "execution_count": null,
   "id": "4f72c203",
   "metadata": {},
   "outputs": [],
   "source": [
    "# Simulate mutiple time steps with varying loads, renewables, and generation    \n",
    "n_steps = 8760\n",
    "load_profiles = []\n",
    "\n",
    "for i in range(n_steps):\n",
    "    scale = np.random.normal(loc=1.0, scale=0.2) # Simulate load variation\n",
    "    for idx in net.load.index:\n",
    "        net.load.at[idx, 'p_mw'] *= scale\n",
    "        net.load.at[idx, 'q_mvar'] *= scale\n",
    "    pp.runpp(net) # Run power flow\n",
    "    snapshot = {\n",
    "        \"time_step\" : i,\n",
    "        \"bus_voltages\" : net.res_bus.vm_pu.to_list(),\n",
    "        \"bus_angles\" : net.res_bus.va_degree.to_list(),\n",
    "        \"load_p\" : net.res_load.p_mw.to_list(),\n",
    "        \"load_q\" : net.res_load.q_mvar.to_list(),\n",
    "        \"gen_p\" : net.res_gen.p_mw.to_list(),\n",
    "        \"gen_q\" : net.res_gen.q_mvar.to_list(),\n",
    "\n",
    "    }\n",
    "    load_profiles.append(snapshot)\n",
    "    \n",
    "    # Save the results to a dataframe and csv file\n",
    "    df = pd.DataFrame(load_profiles)\n",
    "    df.to_csv(\"synthetic_ieee14_data.csv\", index=False)"
   ]
  },
  {
   "cell_type": "code",
   "execution_count": null,
   "id": "4f57c0e5",
   "metadata": {},
   "outputs": [],
   "source": [
    "df.shape()"
   ]
  },
  {
   "cell_type": "code",
   "execution_count": null,
   "id": "55bf521e",
   "metadata": {},
   "outputs": [],
   "source": []
  }
 ],
 "metadata": {
  "kernelspec": {
   "display_name": "gridopt",
   "language": "python",
   "name": "python3"
  },
  "language_info": {
   "codemirror_mode": {
    "name": "ipython",
    "version": 3
   },
   "file_extension": ".py",
   "mimetype": "text/x-python",
   "name": "python",
   "nbconvert_exporter": "python",
   "pygments_lexer": "ipython3",
   "version": "3.10.17"
  }
 },
 "nbformat": 4,
 "nbformat_minor": 5
}
